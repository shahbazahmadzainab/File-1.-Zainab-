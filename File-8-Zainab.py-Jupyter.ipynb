{
 "cells": [
  {
   "cell_type": "markdown",
   "id": "17129a9d",
   "metadata": {},
   "source": [
    "# Take user input for their full name. Print how many characters are in the name using len()."
   ]
  },
  {
   "cell_type": "code",
   "execution_count": 1,
   "id": "e7055660",
   "metadata": {},
   "outputs": [
    {
     "name": "stdout",
     "output_type": "stream",
     "text": [
      "number of characters in your name: 14\n"
     ]
    }
   ],
   "source": [
    "full_name = input(\"Enter your fill name:\")\n",
    "print(\"number of characters in your name:\", len(full_name))"
   ]
  },
  {
   "cell_type": "markdown",
   "id": "aca1cf68",
   "metadata": {},
   "source": [
    "# Create a list of 5 names. Print only the names that have more than 5 characters."
   ]
  },
  {
   "cell_type": "code",
   "execution_count": 2,
   "id": "e8795c4c",
   "metadata": {},
   "outputs": [
    {
     "name": "stdout",
     "output_type": "stream",
     "text": [
      "names with more than 5 charaters:\n",
      "Zainab\n",
      "Ayesha\n",
      "Kashif\n"
     ]
    }
   ],
   "source": [
    "names = [\"Zainab\", \"Ayesha\", \"Esha\", \"Ali\", \"Kashif\"]\n",
    "print(\"names with more than 5 charaters:\")\n",
    "for name in names:\n",
    "    if len(name) > 5:\n",
    "        print(name)"
   ]
  },
  {
   "cell_type": "markdown",
   "id": "b549d3d4",
   "metadata": {},
   "source": [
    "# Ask the user to enter a sentence. Convert it to lowercase and check if the word \"Python\" is present."
   ]
  },
  {
   "cell_type": "code",
   "execution_count": 6,
   "id": "f1dfade3",
   "metadata": {},
   "outputs": [
    {
     "name": "stdout",
     "output_type": "stream",
     "text": [
      "The word 'Python' is not present.\n"
     ]
    }
   ],
   "source": [
    "sentence = input(\"Enter a sentence:\")\n",
    "if \"Python\" in sentence.lower():\n",
    "    print(\"The word 'Python' is present.\")\n",
    "else:\n",
    "    print(\"The word 'Python' is not present.\")"
   ]
  },
  {
   "cell_type": "markdown",
   "id": "a462291e",
   "metadata": {},
   "source": [
    "# Create a list of numbers. Print only the numbers that are divisible by 3."
   ]
  },
  {
   "cell_type": "code",
   "execution_count": 7,
   "id": "5d66a2c0",
   "metadata": {},
   "outputs": [
    {
     "name": "stdout",
     "output_type": "stream",
     "text": [
      "Numbers divisible by 3:\n",
      "3\n",
      "6\n",
      "9\n",
      "12\n"
     ]
    }
   ],
   "source": [
    "numbers = [1, 2, 3, 4, 5, 6, 7, 8, 9, 10, 12]\n",
    "print(\"Numbers divisible by 3:\")\n",
    "for num in numbers:\n",
    "    if num % 3 == 0:\n",
    "        print(num)"
   ]
  },
  {
   "cell_type": "markdown",
   "id": "2f9ed211",
   "metadata": {},
   "source": [
    "# Take an input number. Use if-elif-else to check whether it's positive, negative or zero."
   ]
  },
  {
   "cell_type": "code",
   "execution_count": 8,
   "id": "7cf0f6c4",
   "metadata": {},
   "outputs": [
    {
     "name": "stdout",
     "output_type": "stream",
     "text": [
      "The number is positive.\n"
     ]
    }
   ],
   "source": [
    "num = float(input(\"Enter a number:\"))\n",
    "if num > 0:\n",
    "    print(\"The number is positive.\")\n",
    "elif num < 0:\n",
    "    print(\"The number is negative.\")\n",
    "else:\n",
    "    print(\"The number is zero.\")"
   ]
  },
  {
   "cell_type": "markdown",
   "id": "e94dd66f",
   "metadata": {},
   "source": [
    "# Take two input numbers and print their GREATER one using if-else."
   ]
  },
  {
   "cell_type": "code",
   "execution_count": 9,
   "id": "c40a1640",
   "metadata": {},
   "outputs": [
    {
     "name": "stdout",
     "output_type": "stream",
     "text": [
      "Greater number is : 50.0\n"
     ]
    }
   ],
   "source": [
    "a = float(input(\"Enter first number:\"))\n",
    "b = float(input(\"Enter second number:\"))\n",
    "if a > b:\n",
    "    print(\"Greater number is :\", a)\n",
    "else:\n",
    "    print(\"Greater number is :\", b)"
   ]
  },
  {
   "cell_type": "markdown",
   "id": "769a8ba3",
   "metadata": {},
   "source": [
    "# Create a list of cities. Add a new city as input from the user and print the updated list."
   ]
  },
  {
   "cell_type": "code",
   "execution_count": 10,
   "id": "af661c83",
   "metadata": {},
   "outputs": [
    {
     "name": "stdout",
     "output_type": "stream",
     "text": [
      "Updated listof cities: ['Islamabad', 'Faislabad', 'Lahore', 'Wazirabad', 'Karachi']\n"
     ]
    }
   ],
   "source": [
    "cities = [\"Islamabad\", \"Faislabad\", \"Lahore\", \"Wazirabad\"]\n",
    "new_city = input(\"Enter a new city to add:\")\n",
    "cities.append(new_city)\n",
    "print(\"Updated listof cities:\", cities) "
   ]
  },
  {
   "cell_type": "markdown",
   "id": "f801117a",
   "metadata": {},
   "source": [
    "# Create a list of 5 words. Print each word on a new line in reverse order."
   ]
  },
  {
   "cell_type": "code",
   "execution_count": 11,
   "id": "1d32938e",
   "metadata": {},
   "outputs": [
    {
     "name": "stdout",
     "output_type": "stream",
     "text": [
      "Words in reverse order:\n",
      "mango\n",
      "peach\n",
      "cherry\n",
      "bnanana\n",
      "apple\n"
     ]
    }
   ],
   "source": [
    "words = [\"apple\", \"bnanana\", \"cherry\", \"peach\", \"mango\"]\n",
    "print(\"Words in reverse order:\")\n",
    "for word in reversed(words):\n",
    "    print(word)"
   ]
  },
  {
   "cell_type": "markdown",
   "id": "ed49e77a",
   "metadata": {},
   "source": [
    "# Take user input of three marks. Calculate total, average and grades (A\\B\\C\\Fail)."
   ]
  },
  {
   "cell_type": "code",
   "execution_count": 12,
   "id": "00aa4eec",
   "metadata": {},
   "outputs": [
    {
     "name": "stdout",
     "output_type": "stream",
     "text": [
      "Total Marks: 192.0\n",
      "Average Marks: 64.0\n"
     ]
    }
   ],
   "source": [
    "x = float(input(\"Enter marks 1:\"))\n",
    "y = float(input(\"Enter marks 2:\"))\n",
    "z = float(input(\"Enter marks 3:\"))\n",
    "total = x + y + z\n",
    "average = total / 3\n",
    "print(\"Total Marks:\", total)\n",
    "print(\"Average Marks:\", average)"
   ]
  },
  {
   "cell_type": "markdown",
   "id": "a0845e16",
   "metadata": {},
   "source": [
    "# Create a list of fruits. Check if \"apple\" is in the list. Print \"Found\" or \"Not found\"."
   ]
  },
  {
   "cell_type": "code",
   "execution_count": 13,
   "id": "ed1b6d2c",
   "metadata": {},
   "outputs": [
    {
     "name": "stdout",
     "output_type": "stream",
     "text": [
      "Found\n"
     ]
    }
   ],
   "source": [
    "fruits = [\"cherry\", \"mango\", \"grapes\", \"apple\", \"peach\"]\n",
    "if \"apple\" in fruits:\n",
    "    print(\"Found\")\n",
    "else:\n",
    "    print(\"Not found\")"
   ]
  }
 ],
 "metadata": {
  "kernelspec": {
   "display_name": "Python 3",
   "language": "python",
   "name": "python3"
  },
  "language_info": {
   "codemirror_mode": {
    "name": "ipython",
    "version": 3
   },
   "file_extension": ".py",
   "mimetype": "text/x-python",
   "name": "python",
   "nbconvert_exporter": "python",
   "pygments_lexer": "ipython3",
   "version": "3.13.5"
  }
 },
 "nbformat": 4,
 "nbformat_minor": 5
}
