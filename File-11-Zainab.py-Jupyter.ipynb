{
 "cells": [
  {
   "cell_type": "markdown",
   "id": "7cbb6d8d",
   "metadata": {},
   "source": [
    "# Create a list [\"15\", \"25\", \"40\"]. Convert each to int, add 10, store in a new tuple. Print each element and type and label values > 30 using if-else."
   ]
  },
  {
   "cell_type": "code",
   "execution_count": 1,
   "id": "b7d3ec7f",
   "metadata": {},
   "outputs": [
    {
     "name": "stdout",
     "output_type": "stream",
     "text": [
      "value: 25, type: <class 'int'>\n",
      "Label: 30 or less\n",
      "value: 35, type: <class 'int'>\n",
      "Label: Greater than 30\n",
      "value: 50, type: <class 'int'>\n",
      "Label: Greater than 30\n"
     ]
    }
   ],
   "source": [
    "list = [\"15\", \"25\", \"40\"]\n",
    "new_tuple = tuple(int(i) + 10 for i in list)\n",
    "for value in new_tuple:\n",
    "    print(f\"value: {value}, type: {type(value)}\")\n",
    "    if value > 30:\n",
    "        print(\"Label: Greater than 30\")\n",
    "    else:\n",
    "        print(\"Label: 30 or less\")"
   ]
  },
  {
   "cell_type": "markdown",
   "id": "5f467100",
   "metadata": {},
   "source": [
    "# Take user input for name, age (as string), and city. Convert age to int, add into dict & tuple, check eligibility for voting."
   ]
  },
  {
   "cell_type": "code",
   "execution_count": 5,
   "id": "9a02229a",
   "metadata": {},
   "outputs": [
    {
     "name": "stdout",
     "output_type": "stream",
     "text": [
      "Eligible for voting\n"
     ]
    }
   ],
   "source": [
    "name = input(\"Enter your name:\")\n",
    "age_str = input(\"Enter your age:\")\n",
    "city = input(\"Enter your city:\")\n",
    "age = int(age_str)\n",
    "user_dict = {\"name\": name, \"age\": age, \"city\": city}\n",
    "user_tuple = (name, age, city)\n",
    "if age >= 18:\n",
    "    print(\"Eligible for voting\")\n",
    "else:\n",
    "    print(\"Not eligible for voting\")"
   ]
  },
  {
   "cell_type": "markdown",
   "id": "b90d88dc",
   "metadata": {},
   "source": [
    "# Create a list [\"55\", \"45\", \"85\", \"35\"]. Convert to int, classify as \"Pass\" / \"Fail\" using if-else, store in dict, print each with type()."
   ]
  },
  {
   "cell_type": "code",
   "execution_count": 6,
   "id": "fef88639",
   "metadata": {},
   "outputs": [
    {
     "name": "stdout",
     "output_type": "stream",
     "text": [
      "score: 55, Result: Pass, Type: <class 'int'>\n",
      "score: 45, Result: Fail, Type: <class 'int'>\n",
      "score: 85, Result: Pass, Type: <class 'int'>\n",
      "score: 35, Result: Fail, Type: <class 'int'>\n"
     ]
    }
   ],
   "source": [
    "marks = [\"55\", \"45\", \"85\", \"35\"]\n",
    "result = {}\n",
    "for m in marks:\n",
    "    score = int(m)\n",
    "    result[score] = \"Pass\" if score >= 50 else \"Fail\"\n",
    "    print(f\"score: {score}, Result: {result[score]}, Type: {type(score)}\")"
   ]
  },
  {
   "cell_type": "markdown",
   "id": "27579cad",
   "metadata": {},
   "source": [
    "# Define a tuple (\"Farah\", \"20\", \"88.5\"). Cast age to int, score to float, add 5 to score, put in dict, print using loop."
   ]
  },
  {
   "cell_type": "code",
   "execution_count": 7,
   "id": "1461088a",
   "metadata": {},
   "outputs": [
    {
     "name": "stdout",
     "output_type": "stream",
     "text": [
      "name: Farah\n",
      "age: 20\n",
      "score: 93.5\n"
     ]
    }
   ],
   "source": [
    "student = (\"Farah\", \"20\", \"88.5\")\n",
    "name = student[0]\n",
    "age = int(student[1])\n",
    "score = float(student[2]) + 5\n",
    "student_dict = {\"name\": name, \"age\": age, \"score\": score}\n",
    "for key, value in student_dict.items():\n",
    "    print(f\"{key}: {value}\")"
   ]
  },
  {
   "cell_type": "markdown",
   "id": "190e9079",
   "metadata": {},
   "source": [
    "# List of names = [\"Ana\", \"Sana\", \"Salman\"]. Count names > 4 letters. Create dict: name lenght, label as \"short\" / \"medium\" / \"long\"."
   ]
  },
  {
   "cell_type": "code",
   "execution_count": 8,
   "id": "c9e32a12",
   "metadata": {},
   "outputs": [
    {
     "name": "stdout",
     "output_type": "stream",
     "text": [
      "Names > 4 letters: 1\n",
      "{'Salman': {'lenght': 6, 'label': 'long'}}\n"
     ]
    }
   ],
   "source": [
    "names = [\"Ana\", \"Sana\", \"Salman\"]\n",
    "lenght_dict = {}\n",
    "count = 0\n",
    "for name in names:\n",
    "    lenght = len(name)\n",
    "    if lenght > 4:\n",
    "        count += 1\n",
    "    if lenght <= 3:\n",
    "            label = \"short\"\n",
    "    elif lenght <= 5:\n",
    "            label = \"medium\"\n",
    "    else:\n",
    "          label = \"long\"\n",
    "          lenght_dict[name] = {\"lenght\": lenght, \"label\": label}\n",
    "print(f\"Names > 4 letters: {count}\")\n",
    "print(lenght_dict)"
   ]
  },
  {
   "cell_type": "markdown",
   "id": "a965acbe",
   "metadata": {},
   "source": [
    "# Input product names & prices (as strings). Cast prices to float, put in dict, print with if highlight items > 100."
   ]
  },
  {
   "cell_type": "code",
   "execution_count": 11,
   "id": "0da038d3",
   "metadata": {},
   "outputs": [
    {
     "name": "stdout",
     "output_type": "stream",
     "text": [
      "Excel: 500.0 (expensive)\n",
      "Excel: 500.0 (expensive)\n",
      "Bounus: 300.0 (expensive)\n",
      "Excel: 500.0 (expensive)\n",
      "Bounus: 300.0 (expensive)\n",
      "Facewash: 250.0 (expensive)\n"
     ]
    }
   ],
   "source": [
    "products = {}\n",
    "for _ in range(3):\n",
    "    name = input(\"Enter product name:\")\n",
    "    price = float(input(\"Enter product price:\"))\n",
    "    products[name] = price\n",
    "    for name, price in products.items():\n",
    "        if price > 100:\n",
    "            print(f\"{name}: {price} (expensive)\")\n",
    "        else:\n",
    "            print(f\"{name}: {price}\")"
   ]
  },
  {
   "cell_type": "markdown",
   "id": "62ef1185",
   "metadata": {},
   "source": [
    "# Mixed list = [\"100\", 200, 300.5, \"400\"]. Convert to float, print and categorize as \"Above 250\" / \"Below 250\"."
   ]
  },
  {
   "cell_type": "code",
   "execution_count": 12,
   "id": "afc2ed3f",
   "metadata": {},
   "outputs": [
    {
     "name": "stdout",
     "output_type": "stream",
     "text": [
      "100.0  Below 250\n",
      "200.0  Below 250\n",
      "300.5  Above 250\n",
      "400.0  Above 250\n"
     ]
    }
   ],
   "source": [
    "mixed_list = [\"100\", 200, 300.5, \"400\"]\n",
    "for item in mixed_list:\n",
    "    num = float(item)\n",
    "    category = \"Above 250\" if num > 250 else \"Below 250\"\n",
    "    print(f\"{num}  {category}\")"
   ]
  },
  {
   "cell_type": "markdown",
   "id": "ffcba698",
   "metadata": {},
   "source": [
    "# Tuple = (\"Ali\", \"25\", \"True\"). Convert age to int, string true to bool, store in dict, print key-values with student check."
   ]
  },
  {
   "cell_type": "code",
   "execution_count": 13,
   "id": "fc1fe697",
   "metadata": {},
   "outputs": [
    {
     "name": "stdout",
     "output_type": "stream",
     "text": [
      "name: Ali\n",
      "age: 25\n",
      "student: True\n"
     ]
    }
   ],
   "source": [
    "tuple = (\"Ali\", \"25\", \"True\")\n",
    "name = tuple[0]\n",
    "age = int(tuple[1])\n",
    "is_student = tuple[2] == \"True\"\n",
    "data = {\"name\": name, \"age\": age, \"student\": is_student}\n",
    "for key, value in data.items():\n",
    "    print(f\"{key}: {value}\")"
   ]
  },
  {
   "cell_type": "markdown",
   "id": "77fc27a7",
   "metadata": {},
   "source": [
    "# Subjects dict = {\"Math\": \"90\", \"English\": \"85\"}. Convert to int, calculate total & average, assign grades using if-elif-else."
   ]
  },
  {
   "cell_type": "code",
   "execution_count": 16,
   "id": "a40323a4",
   "metadata": {},
   "outputs": [
    {
     "name": "stdout",
     "output_type": "stream",
     "text": [
      "Total: 175, Average: 87.5, Grade: B\n"
     ]
    }
   ],
   "source": [
    "subjects = {\"Math\": \"90\", \"English\": \"85\"}\n",
    "total = 0\n",
    "for subject in subjects:\n",
    "    subjects[subject] = int(subjects[subject])\n",
    "    total += subjects[subject]\n",
    "    average = total / len(subjects)\n",
    "if average >= 90:\n",
    "    grade = \"A\"\n",
    "elif average >= 80:\n",
    "    grade = \"B\"\n",
    "else:\n",
    "    grade = \"C\"\n",
    "print(f\"Total: {total}, Average: {average}, Grade: {grade}\")"
   ]
  },
  {
   "cell_type": "markdown",
   "id": "c8699bf8",
   "metadata": {},
   "source": [
    "# Ask user for 5 gadget names (strings), convert 3rd to uppercase(), store prices in another list, calculate total & flag expensive items in dict."
   ]
  },
  {
   "cell_type": "code",
   "execution_count": 19,
   "id": "92625fca",
   "metadata": {},
   "outputs": [
    {
     "name": "stdout",
     "output_type": "stream",
     "text": [
      "Total price: 555.0\n",
      "Expensive items: {'Headphones': 150.0, 'SPEAKER': 120.0, 'Keyboard': 110.0}\n"
     ]
    }
   ],
   "source": [
    "gadgets = []\n",
    "prices = []\n",
    "for i in range(5):\n",
    "    g = input(\"Enter gadget name:\")\n",
    "    p = float(input(\"Enter price:\"))\n",
    "    if i == 2:\n",
    "        g = g.upper()\n",
    "    gadgets.append(g)\n",
    "    prices.append(p)\n",
    "total = sum(prices)\n",
    "expensive = {}\n",
    "for i in range(5):\n",
    "    if prices[i] > 100:\n",
    "            expensive[gadgets[i]] = prices[i]\n",
    "print(\"Total price:\", total)\n",
    "print(\"Expensive items:\", expensive)"
   ]
  }
 ],
 "metadata": {
  "kernelspec": {
   "display_name": "Python 3",
   "language": "python",
   "name": "python3"
  },
  "language_info": {
   "codemirror_mode": {
    "name": "ipython",
    "version": 3
   },
   "file_extension": ".py",
   "mimetype": "text/x-python",
   "name": "python",
   "nbconvert_exporter": "python",
   "pygments_lexer": "ipython3",
   "version": "3.13.5"
  }
 },
 "nbformat": 4,
 "nbformat_minor": 5
}
