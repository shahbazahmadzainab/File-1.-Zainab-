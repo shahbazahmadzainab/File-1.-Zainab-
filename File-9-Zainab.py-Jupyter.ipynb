{
 "cells": [
  {
   "cell_type": "markdown",
   "id": "22535e11",
   "metadata": {},
   "source": [
    "# Create a list of 3 float numbers as string (e.g.[\"1.5\", \"2.8\", \"3.0\"])."
   ]
  },
  {
   "cell_type": "code",
   "execution_count": 1,
   "id": "d796fd34",
   "metadata": {},
   "outputs": [
    {
     "name": "stdout",
     "output_type": "stream",
     "text": [
      "sum: 7.3\n"
     ]
    }
   ],
   "source": [
    "float_strings = [\"1.5\", \"2.8\", \"3.0\"]\n",
    "float_numbers = [float(num) for num in float_strings]\n",
    "print(\"sum:\", sum(float_numbers))"
   ]
  },
  {
   "cell_type": "markdown",
   "id": "d3818ea9",
   "metadata": {},
   "source": [
    "# Take user input for a number. Check whether it is positive, negative or zero using if-elif-else."
   ]
  },
  {
   "cell_type": "code",
   "execution_count": 2,
   "id": "6a98fd4b",
   "metadata": {},
   "outputs": [
    {
     "name": "stdout",
     "output_type": "stream",
     "text": [
      "Positive\n"
     ]
    }
   ],
   "source": [
    "number = float(input(\"Enter a number:\"))\n",
    "if number > 0:\n",
    "    print(\"Positive\")\n",
    "elif number < 0:\n",
    "    print(\"Negative\")\n",
    "else:\n",
    "    print(\"Zero\")"
   ]
  },
  {
   "cell_type": "markdown",
   "id": "59a6912b",
   "metadata": {},
   "source": [
    "# Take two string numbers as input from the user. Convert to int, add them, and print the result with type."
   ]
  },
  {
   "cell_type": "code",
   "execution_count": 3,
   "id": "1659f813",
   "metadata": {},
   "outputs": [
    {
     "name": "stdout",
     "output_type": "stream",
     "text": [
      "sum: 110\n",
      "Type of result: <class 'int'>\n"
     ]
    }
   ],
   "source": [
    "a = input(\"Enter first number:\")\n",
    "b = input(\"Enter second number:\")\n",
    "result = int(a) + int(b)\n",
    "print(\"sum:\", result)\n",
    "print(\"Type of result:\", type(result))"
   ]
  },
  {
   "cell_type": "markdown",
   "id": "359d6654",
   "metadata": {},
   "source": [
    "# Define a list of mixed types (e.g.[\"5\", 8, 10.5,True]). Use a loop to convert strings into integers."
   ]
  },
  {
   "cell_type": "code",
   "execution_count": 4,
   "id": "4bb35229",
   "metadata": {},
   "outputs": [
    {
     "name": "stdout",
     "output_type": "stream",
     "text": [
      "Converted list: [5, 8]\n",
      "Converted list: [5, 8, 10.5]\n",
      "Converted list: [5, 8, 10.5, True]\n"
     ]
    }
   ],
   "source": [
    "mixed_list = [\"5\", 8, 10.5, True]\n",
    "converted_list = []\n",
    "for item in mixed_list:\n",
    "    if isinstance(item, str):\n",
    "        converted_list.append(int(item))\n",
    "    else:\n",
    "        converted_list.append(item)\n",
    "        print(\"Converted list:\", converted_list)"
   ]
  },
  {
   "cell_type": "markdown",
   "id": "cbc64d87",
   "metadata": {},
   "source": [
    "# Take three marks as string input, convert to int, calculate total and percentage."
   ]
  },
  {
   "cell_type": "code",
   "execution_count": 5,
   "id": "66ac97f6",
   "metadata": {},
   "outputs": [
    {
     "name": "stdout",
     "output_type": "stream",
     "text": [
      "total: 34\n",
      "percentage: 11.333333333333332\n",
      "total: 79\n",
      "percentage: 26.333333333333332\n",
      "total: 146\n",
      "percentage: 48.66666666666667\n"
     ]
    }
   ],
   "source": [
    "marks = []\n",
    "for i in range(3):\n",
    "    mark = int(input(f\"Enter mark {i + 1}:\"))\n",
    "    marks.append(mark)\n",
    "    total = sum(marks)\n",
    "    percentage = (total / 300) * 100\n",
    "    print(\"total:\", total)\n",
    "    print(\"percentage:\", percentage) "
   ]
  },
  {
   "cell_type": "markdown",
   "id": "c6af78d9",
   "metadata": {},
   "source": [
    "# Create a string variable of a float value (e.g. \"4.2\"). Convert to float, multiply by 2, and check if result > 5."
   ]
  },
  {
   "cell_type": "code",
   "execution_count": 6,
   "id": "2920c09d",
   "metadata": {},
   "outputs": [
    {
     "name": "stdout",
     "output_type": "stream",
     "text": [
      "Result: 8.4\n",
      "Greater than 5:\n"
     ]
    }
   ],
   "source": [
    "value = \"4.2\"\n",
    "converted = float(value) * 2\n",
    "print(\"Result:\", converted)\n",
    "if converted > 5:\n",
    "    print(\"Greater than 5:\")\n",
    "else:\n",
    "    print(\"Not greater than 5:\")"
   ]
  },
  {
   "cell_type": "markdown",
   "id": "92ca8280",
   "metadata": {},
   "source": [
    "# Create a list of 4 marks (as strings). Use loop to convert for pass or fail (mark >= 50)."
   ]
  },
  {
   "cell_type": "code",
   "execution_count": 7,
   "id": "2ae522c9",
   "metadata": {},
   "outputs": [
    {
     "name": "stdout",
     "output_type": "stream",
     "text": [
      "34 => fail\n",
      "56 => pass\n",
      "78 => pass\n",
      "60 => pass\n",
      "88 => pass\n"
     ]
    }
   ],
   "source": [
    "marks = [\"34\", \"56\", \"78\", \"60\", \"88\"]\n",
    "for mark in marks:\n",
    "    mark_int = int(mark)\n",
    "    if mark_int >= 50:\n",
    "        print(mark_int, \"=> pass\")\n",
    "    else:\n",
    "        print(mark_int, \"=> fail\")"
   ]
  },
  {
   "cell_type": "markdown",
   "id": "c4de351d",
   "metadata": {},
   "source": [
    "# Take user input of email and check if it contain \"@\" using in. Print valid or in valid."
   ]
  },
  {
   "cell_type": "code",
   "execution_count": 8,
   "id": "ced47e73",
   "metadata": {},
   "outputs": [
    {
     "name": "stdout",
     "output_type": "stream",
     "text": [
      "valid email\n"
     ]
    }
   ],
   "source": [
    "email = input(\"Enter your email:\")\n",
    "if \"@\" in email:\n",
    "    print(\"valid email\")\n",
    "else:\n",
    "    print(\"invalid email\")"
   ]
  },
  {
   "cell_type": "markdown",
   "id": "6217191a",
   "metadata": {},
   "source": [
    "# Take user input of a sentence. Count how many times the word \"the\" appears."
   ]
  },
  {
   "cell_type": "code",
   "execution_count": 9,
   "id": "209f4e72",
   "metadata": {},
   "outputs": [
    {
     "name": "stdout",
     "output_type": "stream",
     "text": [
      "Occurences of 'the': 2\n"
     ]
    }
   ],
   "source": [
    "sentence = input(\"Enter a sentence:\")\n",
    "words = sentence.lower().split()\n",
    "count_the = words.count(\"the\")\n",
    "print(\"Occurences of 'the':\", count_the)"
   ]
  },
  {
   "cell_type": "markdown",
   "id": "b8305376",
   "metadata": {},
   "source": [
    "# Make a list of numbers from 1 to 10 (as strings). Convert to int, filter only even numbers and print them."
   ]
  },
  {
   "cell_type": "code",
   "execution_count": 10,
   "id": "876341a9",
   "metadata": {},
   "outputs": [
    {
     "name": "stdout",
     "output_type": "stream",
     "text": [
      "Even numbers: [2]\n",
      "Even numbers: [2, 4]\n",
      "Even numbers: [2, 4, 6]\n",
      "Even numbers: [2, 4, 6, 8]\n",
      "Even numbers: [2, 4, 6, 8, 10]\n"
     ]
    }
   ],
   "source": [
    "num_strings = [\"1\", \"2\", \"3\", \"4\", \"5\", \"6\", \"7\", \"8\", \"9\", \"10\"]\n",
    "even_numbers = []\n",
    "for num in num_strings:\n",
    "    number = int(num)\n",
    "    if number % 2 == 0:\n",
    "        even_numbers.append(number)\n",
    "        print(\"Even numbers:\", even_numbers)"
   ]
  }
 ],
 "metadata": {
  "kernelspec": {
   "display_name": "Python 3",
   "language": "python",
   "name": "python3"
  },
  "language_info": {
   "codemirror_mode": {
    "name": "ipython",
    "version": 3
   },
   "file_extension": ".py",
   "mimetype": "text/x-python",
   "name": "python",
   "nbconvert_exporter": "python",
   "pygments_lexer": "ipython3",
   "version": "3.13.5"
  }
 },
 "nbformat": 4,
 "nbformat_minor": 5
}
