{
 "cells": [
  {
   "cell_type": "markdown",
   "id": "103a19b2",
   "metadata": {},
   "source": [
    "# Take user input for marks (as string), convert to int, and print \"Pass\" if marks > 40, else \"Fail\"."
   ]
  },
  {
   "cell_type": "code",
   "execution_count": 1,
   "id": "35ad4759",
   "metadata": {},
   "outputs": [
    {
     "name": "stdout",
     "output_type": "stream",
     "text": [
      "Pass\n"
     ]
    }
   ],
   "source": [
    "marks = int(input(\"Enter your marks:\"))\n",
    "if marks >= 40:\n",
    "    print(\"Pass\")\n",
    "else:\n",
    "    print(\"Fail\")"
   ]
  },
  {
   "cell_type": "markdown",
   "id": "4550f6c0",
   "metadata": {},
   "source": [
    "# Create a list of ages (as strings), convert to int, and print only ages that are 18+ in a loop."
   ]
  },
  {
   "cell_type": "code",
   "execution_count": 2,
   "id": "2ae43887",
   "metadata": {},
   "outputs": [
    {
     "name": "stdout",
     "output_type": "stream",
     "text": [
      "18+ age: 21\n",
      "18+ age: 18\n",
      "18+ age: 25\n"
     ]
    }
   ],
   "source": [
    "ages = [\"15\", \"21\", \"17\", \"18\", \"25\"]\n",
    "for age in ages:\n",
    "    if int(age) >= 18:\n",
    "        print(\"18+ age:\", age)"
   ]
  },
  {
   "cell_type": "markdown",
   "id": "2b3ca762",
   "metadata": {},
   "source": [
    "# Ask the user to enter a number. Check if it's divisible by 5 or 7, or both and print a message."
   ]
  },
  {
   "cell_type": "code",
   "execution_count": 3,
   "id": "7a79df45",
   "metadata": {},
   "outputs": [
    {
     "name": "stdout",
     "output_type": "stream",
     "text": [
      "Divisible by 5\n"
     ]
    }
   ],
   "source": [
    "num = int(input(\"Enter a number:\"))\n",
    "if num % 5 == 0 and num % 7 == 0:\n",
    "    print(\"Divisible by both 5 and 7\")\n",
    "elif num % 5 == 0:\n",
    "    print(\"Divisible by 5\")\n",
    "elif num % 7 == 0:\n",
    "    print(\"Divisible by 7\")\n",
    "else:\n",
    "    print(\"Not divisible by 5 or 7\")"
   ]
  },
  {
   "cell_type": "markdown",
   "id": "3b0e2617",
   "metadata": {},
   "source": [
    "# Craete a list [\"3\", \"6\", \"9\", \"12\"], cast to int, print only elements divisible by 6."
   ]
  },
  {
   "cell_type": "code",
   "execution_count": 4,
   "id": "cdb52348",
   "metadata": {},
   "outputs": [
    {
     "name": "stdout",
     "output_type": "stream",
     "text": [
      "6 is divisible by 6\n",
      "12 is divisible by 6\n"
     ]
    }
   ],
   "source": [
    "numbers = [\"3\", \"6\", \"9\", \"12\"]\n",
    "for n in numbers:\n",
    "    if int(n) % 6 == 0:\n",
    "        print(n, \"is divisible by 6\")"
   ]
  },
  {
   "cell_type": "markdown",
   "id": "162b80e6",
   "metadata": {},
   "source": [
    "# Take name and age as input. Convert age to int, and print a custom greeting for adults or kids."
   ]
  },
  {
   "cell_type": "code",
   "execution_count": 5,
   "id": "3659a346",
   "metadata": {},
   "outputs": [
    {
     "name": "stdout",
     "output_type": "stream",
     "text": [
      "Hello Zainab, you are an adult!\n"
     ]
    }
   ],
   "source": [
    "name = input(\"Enter your name:\")\n",
    "age = int(input(\"Enter your age:\"))\n",
    "if age >= 18:\n",
    "    print(f\"Hello {name}, you are an adult!\")\n",
    "else:\n",
    "    print(f\"Hi {name}, you are a kid!\")"
   ]
  },
  {
   "cell_type": "markdown",
   "id": "560ee77e",
   "metadata": {},
   "source": [
    "# Define a list of 5 numbers. Print the highest and lowest using max() and min()."
   ]
  },
  {
   "cell_type": "code",
   "execution_count": 6,
   "id": "7fa8e62e",
   "metadata": {},
   "outputs": [
    {
     "name": "stdout",
     "output_type": "stream",
     "text": [
      "Max: 33\n",
      "Min: 7\n"
     ]
    }
   ],
   "source": [
    "nums = [15, 22, 7, 33, 10]\n",
    "print(\"Max:\", max(nums))\n",
    "print(\"Min:\", min(nums))"
   ]
  },
  {
   "cell_type": "markdown",
   "id": "f1215792",
   "metadata": {},
   "source": [
    "# Take input of a string containing numbers like \"100200300\". Extract and sum all digits."
   ]
  },
  {
   "cell_type": "code",
   "execution_count": 8,
   "id": "5ab61cfe",
   "metadata": {},
   "outputs": [
    {
     "name": "stdout",
     "output_type": "stream",
     "text": [
      "sum of digits: 8\n",
      "sum of digits: 17\n"
     ]
    }
   ],
   "source": [
    "string_number = input(\"Enter a number string (e.g. 100200300):\")\n",
    "total = 0\n",
    "for char in string_number:\n",
    "    if char.isdigit():\n",
    "        total += int(char)\n",
    "        print(\"sum of digits:\", total)"
   ]
  },
  {
   "cell_type": "markdown",
   "id": "5c94c7d6",
   "metadata": {},
   "source": [
    "# Ask the user to enter a password. Check if it contains at least 8 characters and print validity."
   ]
  },
  {
   "cell_type": "code",
   "execution_count": 9,
   "id": "fd0c881d",
   "metadata": {},
   "outputs": [
    {
     "name": "stdout",
     "output_type": "stream",
     "text": [
      "Valid password\n"
     ]
    }
   ],
   "source": [
    "password = input(\"Enter your password:\")\n",
    "if len(password) >= 8:\n",
    "    print(\"Valid password\")\n",
    "else:\n",
    "    print(\"Invalid password\")"
   ]
  },
  {
   "cell_type": "markdown",
   "id": "bea7f15c",
   "metadata": {},
   "source": [
    "# Create a list of mixed types. Loop and count how many are integers."
   ]
  },
  {
   "cell_type": "code",
   "execution_count": 10,
   "id": "9163b15b",
   "metadata": {},
   "outputs": [
    {
     "name": "stdout",
     "output_type": "stream",
     "text": [
      "Total integers: 1\n",
      "Total integers: 2\n",
      "Total integers: 3\n",
      "Total integers: 4\n"
     ]
    }
   ],
   "source": [
    "mixed_list = [5, \"hello\", 34.5, 8, True, \"34\", 10]\n",
    "count = 0\n",
    "for item in mixed_list:\n",
    "    if isinstance(item, int):\n",
    "        count += 1\n",
    "        print(\"Total integers:\", count)"
   ]
  },
  {
   "cell_type": "markdown",
   "id": "1606f198",
   "metadata": {},
   "source": [
    "# Use import keyword and print the total number of Python keywords using len(keyword.kwlist)."
   ]
  },
  {
   "cell_type": "code",
   "execution_count": 11,
   "id": "fe1aa976",
   "metadata": {},
   "outputs": [
    {
     "name": "stdout",
     "output_type": "stream",
     "text": [
      "Total Python keywords: 35\n"
     ]
    }
   ],
   "source": [
    "import keyword\n",
    "print(\"Total Python keywords:\", len(keyword.kwlist))"
   ]
  }
 ],
 "metadata": {
  "kernelspec": {
   "display_name": "Python 3",
   "language": "python",
   "name": "python3"
  },
  "language_info": {
   "codemirror_mode": {
    "name": "ipython",
    "version": 3
   },
   "file_extension": ".py",
   "mimetype": "text/x-python",
   "name": "python",
   "nbconvert_exporter": "python",
   "pygments_lexer": "ipython3",
   "version": "3.13.5"
  }
 },
 "nbformat": 4,
 "nbformat_minor": 5
}
