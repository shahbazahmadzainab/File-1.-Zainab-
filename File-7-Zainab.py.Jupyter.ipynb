{
 "cells": [
  {
   "cell_type": "markdown",
   "id": "295070cd",
   "metadata": {},
   "source": [
    "# Print numbers from 1 to 20 using while loop."
   ]
  },
  {
   "cell_type": "code",
   "execution_count": 1,
   "id": "b1ef1581",
   "metadata": {},
   "outputs": [
    {
     "name": "stdout",
     "output_type": "stream",
     "text": [
      "2\n",
      "4\n",
      "6\n",
      "8\n",
      "10\n",
      "12\n",
      "14\n",
      "16\n",
      "18\n",
      "20\n"
     ]
    }
   ],
   "source": [
    "num = 2\n",
    "while num <= 20:\n",
    "    print(num)\n",
    "    num += 2"
   ]
  },
  {
   "cell_type": "markdown",
   "id": "7aa45114",
   "metadata": {},
   "source": [
    "# Print every 3rd number from 3 to 30."
   ]
  },
  {
   "cell_type": "code",
   "execution_count": 2,
   "id": "3cbb3946",
   "metadata": {},
   "outputs": [
    {
     "name": "stdout",
     "output_type": "stream",
     "text": [
      "3\n",
      "6\n",
      "9\n",
      "12\n",
      "15\n",
      "18\n",
      "21\n",
      "24\n",
      "27\n",
      "30\n"
     ]
    }
   ],
   "source": [
    "i = 3\n",
    "for i in range(3, 31, 3):\n",
    "    print(i)"
   ]
  },
  {
   "cell_type": "markdown",
   "id": "3031c420",
   "metadata": {},
   "source": [
    "# Print the sum of even numbers from 2 to 20."
   ]
  },
  {
   "cell_type": "code",
   "execution_count": 8,
   "id": "dd0d9006",
   "metadata": {},
   "outputs": [
    {
     "name": "stdout",
     "output_type": "stream",
     "text": [
      "sum of even_number :  2\n",
      "sum of even_number :  6\n",
      "sum of even_number :  12\n",
      "sum of even_number :  20\n",
      "sum of even_number :  30\n",
      "sum of even_number :  42\n",
      "sum of even_number :  56\n",
      "sum of even_number :  72\n",
      "sum of even_number :  90\n",
      "sum of even_number :  110\n"
     ]
    }
   ],
   "source": [
    "even_sum = 0\n",
    "for i in range(2, 21, 2):\n",
    "    even_sum += i\n",
    "    print(\"sum of even_number : \", even_sum)"
   ]
  },
  {
   "cell_type": "markdown",
   "id": "552fb9d2",
   "metadata": {},
   "source": [
    "# Print the product of odd numbers from 1 to 9."
   ]
  },
  {
   "cell_type": "code",
   "execution_count": 7,
   "id": "f295206f",
   "metadata": {},
   "outputs": [
    {
     "name": "stdout",
     "output_type": "stream",
     "text": [
      "Product of odd number :  1\n",
      "Product of odd number :  3\n",
      "Product of odd number :  15\n",
      "Product of odd number :  105\n",
      "Product of odd number :  945\n"
     ]
    }
   ],
   "source": [
    "a = 1\n",
    "for i in range(1, 10, 2):\n",
    "    a *= i\n",
    "    print(\"Product of odd number : \", a)"
   ]
  },
  {
   "cell_type": "markdown",
   "id": "08c35b46",
   "metadata": {},
   "source": [
    "# Create a list of 5 names and print each name on a new line."
   ]
  },
  {
   "cell_type": "code",
   "execution_count": 9,
   "id": "fbadcef1",
   "metadata": {},
   "outputs": [
    {
     "name": "stdout",
     "output_type": "stream",
     "text": [
      "Ayesha\n",
      "Meerab\n",
      "Faiza\n",
      "Seerat\n",
      "Farwa\n"
     ]
    }
   ],
   "source": [
    "names = [\"Ayesha\", \"Meerab\", \"Faiza\", \"Seerat\", \"Farwa\"]\n",
    "for name in names:\n",
    "    print(name)"
   ]
  },
  {
   "cell_type": "markdown",
   "id": "4b084043",
   "metadata": {},
   "source": [
    "# Count how many letters 'a' are in the word \"banana\"."
   ]
  },
  {
   "cell_type": "code",
   "execution_count": 10,
   "id": "2b6a2592",
   "metadata": {},
   "outputs": [
    {
     "name": "stdout",
     "output_type": "stream",
     "text": [
      "numbers of 'a's :  3\n"
     ]
    }
   ],
   "source": [
    "word = \"banana\"\n",
    "count_a = word.count('a')\n",
    "print(\"numbers of 'a's : \", count_a)"
   ]
  },
  {
   "cell_type": "markdown",
   "id": "2252aeb0",
   "metadata": {},
   "source": [
    "# Print only the negative numbers from a given list."
   ]
  },
  {
   "cell_type": "code",
   "execution_count": 11,
   "id": "f539ca4d",
   "metadata": {},
   "outputs": [
    {
     "name": "stdout",
     "output_type": "stream",
     "text": [
      "-2\n",
      "-4\n",
      "-6\n"
     ]
    }
   ],
   "source": [
    "nums = [1, -2, 3, -4, 5, -6]\n",
    "for n in nums:\n",
    " if n < 0:\n",
    "    print(n)"
   ]
  },
  {
   "cell_type": "markdown",
   "id": "b4e9e781",
   "metadata": {},
   "source": [
    "# Print only the numbers ending in 5 from 1 to 50."
   ]
  },
  {
   "cell_type": "code",
   "execution_count": 12,
   "id": "42bae7a4",
   "metadata": {},
   "outputs": [
    {
     "name": "stdout",
     "output_type": "stream",
     "text": [
      "5\n",
      "15\n",
      "25\n",
      "35\n",
      "45\n"
     ]
    }
   ],
   "source": [
    "for i in range(1, 51):\n",
    "    if i % 10 == 5:\n",
    "        print(i)"
   ]
  },
  {
   "cell_type": "markdown",
   "id": "cc0dbf69",
   "metadata": {},
   "source": [
    "# Print the lenght of each word in list [\"cat\", \"elephant\", \"bat\"]."
   ]
  },
  {
   "cell_type": "code",
   "execution_count": 13,
   "id": "291b10f5",
   "metadata": {},
   "outputs": [
    {
     "name": "stdout",
     "output_type": "stream",
     "text": [
      "3\n",
      "8\n",
      "3\n"
     ]
    }
   ],
   "source": [
    "words = [\"cat\", \"elephant\", \"bat\"]\n",
    "for word in words:\n",
    "    print(len(word))"
   ]
  },
  {
   "cell_type": "markdown",
   "id": "3ad4cc86",
   "metadata": {},
   "source": [
    "# Take 3 numbers as input from the user and print their average."
   ]
  },
  {
   "cell_type": "code",
   "execution_count": 14,
   "id": "1d8db834",
   "metadata": {},
   "outputs": [
    {
     "name": "stdout",
     "output_type": "stream",
     "text": [
      "average: 25.666666666666668\n"
     ]
    }
   ],
   "source": [
    "a = int(input(\"Enter first number:\"))\n",
    "b = int(input(\"Enter second number:\"))\n",
    "c = int(input(\"Enter third number:\"))\n",
    "average = (a + b + c) / 3\n",
    "print(\"average:\", average)"
   ]
  },
  {
   "cell_type": "markdown",
   "id": "8a976073",
   "metadata": {},
   "source": [
    "# print the table of 5 in reverse (from 5x10 to 5x1)."
   ]
  },
  {
   "cell_type": "code",
   "execution_count": 15,
   "id": "0216d2d2",
   "metadata": {},
   "outputs": [
    {
     "name": "stdout",
     "output_type": "stream",
     "text": [
      "5 x 10 = 50\n",
      "5 x 9 = 45\n",
      "5 x 8 = 40\n",
      "5 x 7 = 35\n",
      "5 x 6 = 30\n",
      "5 x 5 = 25\n",
      "5 x 4 = 20\n",
      "5 x 3 = 15\n",
      "5 x 2 = 10\n",
      "5 x 1 = 5\n"
     ]
    }
   ],
   "source": [
    "for i in range(10, 0, -1):\n",
    "    print(f\"5 x {i} = {5 * i}\")"
   ]
  },
  {
   "cell_type": "markdown",
   "id": "edcbdfb3",
   "metadata": {},
   "source": [
    "# Use a for loop to print all characters in \"Python Is Fun\"."
   ]
  },
  {
   "cell_type": "code",
   "execution_count": 16,
   "id": "6f8120e2",
   "metadata": {},
   "outputs": [
    {
     "name": "stdout",
     "output_type": "stream",
     "text": [
      "P\n",
      "y\n",
      "t\n",
      "h\n",
      "o\n",
      "n\n",
      " \n",
      "i\n",
      "s\n",
      " \n",
      "f\n",
      "u\n",
      "n\n"
     ]
    }
   ],
   "source": [
    "char = \"Python is fun\"\n",
    "for char in \"Python is fun\":\n",
    "    print(char)"
   ]
  },
  {
   "cell_type": "markdown",
   "id": "ae9a0daf",
   "metadata": {},
   "source": [
    "# Create a list of numbers and print every second item."
   ]
  },
  {
   "cell_type": "code",
   "execution_count": 17,
   "id": "6d088c30",
   "metadata": {},
   "outputs": [
    {
     "name": "stdout",
     "output_type": "stream",
     "text": [
      "20\n",
      "40\n",
      "60\n"
     ]
    }
   ],
   "source": [
    "numbers = [10, 20, 30, 40, 50, 60]\n",
    "for i in range(1, len(numbers), 2):\n",
    "    print(numbers[i])"
   ]
  },
  {
   "cell_type": "markdown",
   "id": "aab51f64",
   "metadata": {},
   "source": [
    "# Take a word from the user and count how many consonants it has."
   ]
  },
  {
   "cell_type": "code",
   "execution_count": 21,
   "id": "3ae9ddfe",
   "metadata": {},
   "outputs": [
    {
     "name": "stdout",
     "output_type": "stream",
     "text": [
      "number of consonant: 1\n",
      "number of consonant: 2\n",
      "number of consonant: 3\n",
      "number of consonant: 4\n",
      "number of consonant: 5\n"
     ]
    }
   ],
   "source": [
    "word = input(\"Enter a word:\")\n",
    "count = 0\n",
    "for ch in word:\n",
    "    if ch.lower() not in \"a, e, i, o, u\" and ch.isalpha():\n",
    "        count += 1\n",
    "        print(\"number of consonant:\", count)"
   ]
  },
  {
   "cell_type": "markdown",
   "id": "a8bd9a34",
   "metadata": {},
   "source": [
    "# Print the cubes of numbers from 1 to 5."
   ]
  },
  {
   "cell_type": "code",
   "execution_count": 22,
   "id": "04b9858d",
   "metadata": {},
   "outputs": [
    {
     "name": "stdout",
     "output_type": "stream",
     "text": [
      "1 ^ 3 =  1\n",
      "2 ^ 3 =  8\n",
      "3 ^ 3 =  27\n",
      "4 ^ 3 =  64\n",
      "5 ^ 3 =  125\n"
     ]
    }
   ],
   "source": [
    "for i in range(1, 6):\n",
    "    print(f\"{i} ^ 3 = \", i ** 3)"
   ]
  },
  {
   "cell_type": "markdown",
   "id": "6564035d",
   "metadata": {},
   "source": [
    "# Take a list of words and print those that start with 'a'."
   ]
  },
  {
   "cell_type": "code",
   "execution_count": 23,
   "id": "6beec93d",
   "metadata": {},
   "outputs": [
    {
     "name": "stdout",
     "output_type": "stream",
     "text": [
      "apple\n",
      "ant\n",
      "avocado\n"
     ]
    }
   ],
   "source": [
    "word_list = [\"apple\", \"banana\",\"cherry\", \"ant\", \"avocado\"]\n",
    "for w in word_list:\n",
    "    if w.startswith('a'):\n",
    "        print(w)"
   ]
  },
  {
   "cell_type": "markdown",
   "id": "84ab8d90",
   "metadata": {},
   "source": [
    "# Use a loop to print numbers between 100 and 110 (excluding 105)."
   ]
  },
  {
   "cell_type": "code",
   "execution_count": 24,
   "id": "4e5c4e36",
   "metadata": {},
   "outputs": [
    {
     "name": "stdout",
     "output_type": "stream",
     "text": [
      "100\n",
      "101\n",
      "102\n",
      "103\n",
      "104\n",
      "106\n",
      "107\n",
      "108\n",
      "109\n",
      "110\n"
     ]
    }
   ],
   "source": [
    "for i in range(100, 111):\n",
    "    if i != 105:\n",
    "        print(i)"
   ]
  },
  {
   "cell_type": "markdown",
   "id": "63b918c1",
   "metadata": {},
   "source": [
    "# Print the first 5 positive multiples of 4."
   ]
  },
  {
   "cell_type": "code",
   "execution_count": 25,
   "id": "73cd21be",
   "metadata": {},
   "outputs": [
    {
     "name": "stdout",
     "output_type": "stream",
     "text": [
      "4\n",
      "8\n",
      "12\n",
      "16\n",
      "20\n"
     ]
    }
   ],
   "source": [
    "for i in range(1, 6):\n",
    "    print(4 * i)"
   ]
  },
  {
   "cell_type": "markdown",
   "id": "0861ab8f",
   "metadata": {},
   "source": [
    "# Print each word in the sentence \"Coding is easy\" on a new line."
   ]
  },
  {
   "cell_type": "code",
   "execution_count": 26,
   "id": "d318f142",
   "metadata": {},
   "outputs": [
    {
     "name": "stdout",
     "output_type": "stream",
     "text": [
      "Coding\n",
      "is\n",
      "easy\n"
     ]
    }
   ],
   "source": [
    "sentence = \"Coding is easy\"\n",
    "for word in sentence.split():\n",
    "    print(word)"
   ]
  },
  {
   "cell_type": "markdown",
   "id": "52a50d82",
   "metadata": {},
   "source": [
    "# **Create a number list and print only even numbers using conditions in loop.**"
   ]
  },
  {
   "cell_type": "code",
   "execution_count": 27,
   "id": "842d11b7",
   "metadata": {},
   "outputs": [
    {
     "name": "stdout",
     "output_type": "stream",
     "text": [
      "2\n",
      "6\n",
      "8\n",
      "10\n"
     ]
    }
   ],
   "source": [
    "numbers = [1, 2, 3, 6, 7, 8, 10]\n",
    "for n in numbers:\n",
    "    if n % 2 == 0:\n",
    "        print(n)"
   ]
  }
 ],
 "metadata": {
  "kernelspec": {
   "display_name": "Python 3",
   "language": "python",
   "name": "python3"
  },
  "language_info": {
   "codemirror_mode": {
    "name": "ipython",
    "version": 3
   },
   "file_extension": ".py",
   "mimetype": "text/x-python",
   "name": "python",
   "nbconvert_exporter": "python",
   "pygments_lexer": "ipython3",
   "version": "3.13.5"
  }
 },
 "nbformat": 4,
 "nbformat_minor": 5
}
